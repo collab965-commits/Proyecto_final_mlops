{
 "cells": [],
 "metadata": {
  "kernelspec": {
   "display_name": "Proyecto_final_mlops",
   "language": "python",
   "name": "proyecto_final_mlops"
  },
  "language_info": {
   "name": "python",
   "version": "3.11.9"
  }
 },
 "nbformat": 4,
 "nbformat_minor": 5
}
